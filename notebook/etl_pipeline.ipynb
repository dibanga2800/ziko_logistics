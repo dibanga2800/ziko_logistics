{
 "cells": [
  {
   "cell_type": "code",
   "execution_count": null,
   "id": "d7944d49",
   "metadata": {},
   "outputs": [
    {
     "name": "stdout",
     "output_type": "stream",
     "text": [
      "Requirement already satisfied: pyarrow in c:\\users\\david ibanga\\appdata\\local\\programs\\python\\python311\\lib\\site-packages (21.0.0)\n",
      "Note: you may need to restart the kernel to use updated packages.\n"
     ]
    },
    {
     "name": "stderr",
     "output_type": "stream",
     "text": [
      "\n",
      "[notice] A new release of pip is available: 23.1.2 -> 25.2\n",
      "[notice] To update, run: python.exe -m pip install --upgrade pip\n"
     ]
    },
    {
     "name": "stdout",
     "output_type": "stream",
     "text": [
      "Requirement already satisfied: azure-storage-blob in c:\\users\\david ibanga\\appdata\\local\\programs\\python\\python311\\lib\\site-packages (12.26.0)\n",
      "Requirement already satisfied: azure-core>=1.30.0 in c:\\users\\david ibanga\\appdata\\local\\programs\\python\\python311\\lib\\site-packages (from azure-storage-blob) (1.35.0)\n",
      "Requirement already satisfied: cryptography>=2.1.4 in c:\\users\\david ibanga\\appdata\\local\\programs\\python\\python311\\lib\\site-packages (from azure-storage-blob) (45.0.6)\n",
      "Requirement already satisfied: typing-extensions>=4.6.0 in c:\\users\\david ibanga\\appdata\\roaming\\python\\python311\\site-packages (from azure-storage-blob) (4.14.1)\n",
      "Requirement already satisfied: isodate>=0.6.1 in c:\\users\\david ibanga\\appdata\\local\\programs\\python\\python311\\lib\\site-packages (from azure-storage-blob) (0.7.2)\n",
      "Requirement already satisfied: requests>=2.21.0 in c:\\users\\david ibanga\\appdata\\local\\programs\\python\\python311\\lib\\site-packages (from azure-core>=1.30.0->azure-storage-blob) (2.32.4)\n",
      "Requirement already satisfied: six>=1.11.0 in c:\\users\\david ibanga\\appdata\\roaming\\python\\python311\\site-packages (from azure-core>=1.30.0->azure-storage-blob) (1.17.0)\n",
      "Requirement already satisfied: cffi>=1.14 in c:\\users\\david ibanga\\appdata\\local\\programs\\python\\python311\\lib\\site-packages (from cryptography>=2.1.4->azure-storage-blob) (1.17.1)\n",
      "Requirement already satisfied: pycparser in c:\\users\\david ibanga\\appdata\\local\\programs\\python\\python311\\lib\\site-packages (from cffi>=1.14->cryptography>=2.1.4->azure-storage-blob) (2.22)\n",
      "Requirement already satisfied: charset_normalizer<4,>=2 in c:\\users\\david ibanga\\appdata\\local\\programs\\python\\python311\\lib\\site-packages (from requests>=2.21.0->azure-core>=1.30.0->azure-storage-blob) (3.4.2)\n",
      "Requirement already satisfied: idna<4,>=2.5 in c:\\users\\david ibanga\\appdata\\local\\programs\\python\\python311\\lib\\site-packages (from requests>=2.21.0->azure-core>=1.30.0->azure-storage-blob) (3.10)\n",
      "Requirement already satisfied: urllib3<3,>=1.21.1 in c:\\users\\david ibanga\\appdata\\local\\programs\\python\\python311\\lib\\site-packages (from requests>=2.21.0->azure-core>=1.30.0->azure-storage-blob) (2.5.0)\n",
      "Requirement already satisfied: certifi>=2017.4.17 in c:\\users\\david ibanga\\appdata\\local\\programs\\python\\python311\\lib\\site-packages (from requests>=2.21.0->azure-core>=1.30.0->azure-storage-blob) (2025.7.14)\n",
      "Note: you may need to restart the kernel to use updated packages.\n"
     ]
    },
    {
     "name": "stderr",
     "output_type": "stream",
     "text": [
      "\n",
      "[notice] A new release of pip is available: 23.1.2 -> 25.2\n",
      "[notice] To update, run: python.exe -m pip install --upgrade pip\n"
     ]
    }
   ],
   "source": [
    "# Installing necessary packages\n",
    "%pip install pyarrow\n",
    "%pip install azure-storage-blob\n",
    "%pip install pyarrow fastparquet"
   ]
  },
  {
   "cell_type": "code",
   "execution_count": 62,
   "id": "1fe25f5a",
   "metadata": {},
   "outputs": [],
   "source": [
    "# Import necessary Libraries\n",
    "import pandas as pd\n",
    "import os\n",
    "import io\n",
    "from azure.storage.blob import BlobServiceClient, BlobClient"
   ]
  },
  {
   "cell_type": "code",
   "execution_count": null,
   "id": "4e1c5894",
   "metadata": {},
   "outputs": [],
   "source": [
    "#Extract data from CSV files\n",
    "ziko_df = pd.read_csv(r'../dataset/ziko_logistics_data.csv')"
   ]
  },
  {
   "cell_type": "code",
   "execution_count": 64,
   "id": "04f30967",
   "metadata": {},
   "outputs": [
    {
     "data": {
      "application/vnd.microsoft.datawrangler.viewer.v0+json": {
       "columns": [
        {
         "name": "index",
         "rawType": "int64",
         "type": "integer"
        },
        {
         "name": "Transaction_ID",
         "rawType": "int64",
         "type": "integer"
        },
        {
         "name": "Date",
         "rawType": "object",
         "type": "string"
        },
        {
         "name": "Customer_ID",
         "rawType": "int64",
         "type": "integer"
        },
        {
         "name": "Product_ID",
         "rawType": "int64",
         "type": "integer"
        },
        {
         "name": "Quantity",
         "rawType": "int64",
         "type": "integer"
        },
        {
         "name": "Unit_Price",
         "rawType": "float64",
         "type": "float"
        },
        {
         "name": "Total_Cost",
         "rawType": "float64",
         "type": "float"
        },
        {
         "name": "Discount_Rate",
         "rawType": "float64",
         "type": "float"
        },
        {
         "name": "Sales_Channel",
         "rawType": "object",
         "type": "string"
        },
        {
         "name": "Order_Priority",
         "rawType": "object",
         "type": "string"
        },
        {
         "name": "Warehouse_Code",
         "rawType": "object",
         "type": "string"
        },
        {
         "name": "Ship_Mode",
         "rawType": "object",
         "type": "string"
        },
        {
         "name": "Delivery_Status",
         "rawType": "object",
         "type": "string"
        },
        {
         "name": "Customer_Satisfaction",
         "rawType": "object",
         "type": "string"
        },
        {
         "name": "Item_Returned",
         "rawType": "bool",
         "type": "boolean"
        },
        {
         "name": "Return_Reason",
         "rawType": "object",
         "type": "string"
        },
        {
         "name": "Payment_Type",
         "rawType": "object",
         "type": "string"
        },
        {
         "name": "Taxable",
         "rawType": "bool",
         "type": "boolean"
        },
        {
         "name": "Region",
         "rawType": "object",
         "type": "string"
        },
        {
         "name": "Country",
         "rawType": "object",
         "type": "string"
        },
        {
         "name": "Customer_Name",
         "rawType": "object",
         "type": "string"
        },
        {
         "name": "Customer_Phone",
         "rawType": "object",
         "type": "string"
        },
        {
         "name": "Customer_Email",
         "rawType": "object",
         "type": "string"
        },
        {
         "name": "Customer_Address",
         "rawType": "object",
         "type": "string"
        },
        {
         "name": "Product_List_Title",
         "rawType": "object",
         "type": "string"
        }
       ],
       "ref": "b05749c9-50a4-447f-b7bd-440ddaed79a5",
       "rows": [
        [
         "0",
         "200",
         "2020-01-01 20:32:25.945945945",
         "1086",
         "536",
         "3",
         "120.43682132331526",
         "8265.37454940804",
         "0.2",
         "Online",
         "High",
         "WH-3",
         "2-Day",
         "Cancelled",
         "Neutral",
         "False",
         "Wrong Item",
         "Wire Transfer",
         "False",
         "West",
         "Canada",
         "Customer 200",
         "+1-652-572-9306",
         "customer.200.78@example.com",
         "275 Second St, Phoenix, USA",
         "Product 53"
        ],
        [
         "1",
         "321",
         "2020-01-02 06:55:08.108108108",
         "1078",
         "523",
         "6",
         "475.7249935818949",
         "4047.8504787607",
         null,
         "Reseller",
         "Critical",
         "WH-1",
         "Overnight",
         "Backorder",
         "Satisfied",
         "True",
         "Damaged",
         "PayPal",
         "True",
         "South",
         "Mexico",
         "Customer 321",
         "+1-311-186-5760",
         "customer.321.13@sample.com",
         "478 Third St, New York, USA",
         "Product 33"
        ],
        [
         "2",
         "989",
         "2020-01-06 08:12:58.378378378",
         "1077",
         "535",
         "3",
         "146.40055601470172",
         null,
         "0.05",
         "Direct",
         "Critical",
         "WH-1",
         "Overnight",
         "Pending",
         "Unsatisfied",
         "True",
         "Damaged",
         "PayPal",
         "True",
         "West",
         "Canada",
         "Customer 989",
         "+1-922-606-9032",
         "customer.989.99@example.com",
         "843 Second St, Phoenix, USA",
         "Product 6"
        ],
        [
         "3",
         "682",
         "2020-01-07 22:03:14.594594594",
         "1027",
         "546",
         "6",
         "19.373193554270635",
         "8194.281992877543",
         null,
         "Reseller",
         "Medium",
         "WH-1",
         "Express",
         "Pending",
         "Unsatisfied",
         "False",
         "Wrong Item",
         "Cash",
         "True",
         "South",
         "Canada",
         "Customer 682",
         "+1-237-853-5808",
         "customer.682.66@demo.com",
         "153 Main St, Phoenix, USA",
         "Product 68"
        ],
        [
         "4",
         "484",
         "2020-01-07 07:08:06.486486486",
         "1052",
         "556",
         "8",
         "193.22131303627867",
         "8331.32924886882",
         "0.2",
         "Direct",
         "Low",
         "WH-2",
         "2-Day",
         "Delivered",
         "Satisfied",
         "True",
         "Late",
         "Cash",
         "False",
         "South",
         "Mexico",
         "Customer 484",
         "+1-986-360-9109",
         "customer.484.3@sample.com",
         "264 Second St, New York, USA",
         "Product 89"
        ]
       ],
       "shape": {
        "columns": 25,
        "rows": 5
       }
      },
      "text/html": [
       "<div>\n",
       "<style scoped>\n",
       "    .dataframe tbody tr th:only-of-type {\n",
       "        vertical-align: middle;\n",
       "    }\n",
       "\n",
       "    .dataframe tbody tr th {\n",
       "        vertical-align: top;\n",
       "    }\n",
       "\n",
       "    .dataframe thead th {\n",
       "        text-align: right;\n",
       "    }\n",
       "</style>\n",
       "<table border=\"1\" class=\"dataframe\">\n",
       "  <thead>\n",
       "    <tr style=\"text-align: right;\">\n",
       "      <th></th>\n",
       "      <th>Transaction_ID</th>\n",
       "      <th>Date</th>\n",
       "      <th>Customer_ID</th>\n",
       "      <th>Product_ID</th>\n",
       "      <th>Quantity</th>\n",
       "      <th>Unit_Price</th>\n",
       "      <th>Total_Cost</th>\n",
       "      <th>Discount_Rate</th>\n",
       "      <th>Sales_Channel</th>\n",
       "      <th>Order_Priority</th>\n",
       "      <th>...</th>\n",
       "      <th>Return_Reason</th>\n",
       "      <th>Payment_Type</th>\n",
       "      <th>Taxable</th>\n",
       "      <th>Region</th>\n",
       "      <th>Country</th>\n",
       "      <th>Customer_Name</th>\n",
       "      <th>Customer_Phone</th>\n",
       "      <th>Customer_Email</th>\n",
       "      <th>Customer_Address</th>\n",
       "      <th>Product_List_Title</th>\n",
       "    </tr>\n",
       "  </thead>\n",
       "  <tbody>\n",
       "    <tr>\n",
       "      <th>0</th>\n",
       "      <td>200</td>\n",
       "      <td>2020-01-01 20:32:25.945945945</td>\n",
       "      <td>1086</td>\n",
       "      <td>536</td>\n",
       "      <td>3</td>\n",
       "      <td>120.436821</td>\n",
       "      <td>8265.374549</td>\n",
       "      <td>0.20</td>\n",
       "      <td>Online</td>\n",
       "      <td>High</td>\n",
       "      <td>...</td>\n",
       "      <td>Wrong Item</td>\n",
       "      <td>Wire Transfer</td>\n",
       "      <td>False</td>\n",
       "      <td>West</td>\n",
       "      <td>Canada</td>\n",
       "      <td>Customer 200</td>\n",
       "      <td>+1-652-572-9306</td>\n",
       "      <td>customer.200.78@example.com</td>\n",
       "      <td>275 Second St, Phoenix, USA</td>\n",
       "      <td>Product 53</td>\n",
       "    </tr>\n",
       "    <tr>\n",
       "      <th>1</th>\n",
       "      <td>321</td>\n",
       "      <td>2020-01-02 06:55:08.108108108</td>\n",
       "      <td>1078</td>\n",
       "      <td>523</td>\n",
       "      <td>6</td>\n",
       "      <td>475.724994</td>\n",
       "      <td>4047.850479</td>\n",
       "      <td>NaN</td>\n",
       "      <td>Reseller</td>\n",
       "      <td>Critical</td>\n",
       "      <td>...</td>\n",
       "      <td>Damaged</td>\n",
       "      <td>PayPal</td>\n",
       "      <td>True</td>\n",
       "      <td>South</td>\n",
       "      <td>Mexico</td>\n",
       "      <td>Customer 321</td>\n",
       "      <td>+1-311-186-5760</td>\n",
       "      <td>customer.321.13@sample.com</td>\n",
       "      <td>478 Third St, New York, USA</td>\n",
       "      <td>Product 33</td>\n",
       "    </tr>\n",
       "    <tr>\n",
       "      <th>2</th>\n",
       "      <td>989</td>\n",
       "      <td>2020-01-06 08:12:58.378378378</td>\n",
       "      <td>1077</td>\n",
       "      <td>535</td>\n",
       "      <td>3</td>\n",
       "      <td>146.400556</td>\n",
       "      <td>NaN</td>\n",
       "      <td>0.05</td>\n",
       "      <td>Direct</td>\n",
       "      <td>Critical</td>\n",
       "      <td>...</td>\n",
       "      <td>Damaged</td>\n",
       "      <td>PayPal</td>\n",
       "      <td>True</td>\n",
       "      <td>West</td>\n",
       "      <td>Canada</td>\n",
       "      <td>Customer 989</td>\n",
       "      <td>+1-922-606-9032</td>\n",
       "      <td>customer.989.99@example.com</td>\n",
       "      <td>843 Second St, Phoenix, USA</td>\n",
       "      <td>Product 6</td>\n",
       "    </tr>\n",
       "    <tr>\n",
       "      <th>3</th>\n",
       "      <td>682</td>\n",
       "      <td>2020-01-07 22:03:14.594594594</td>\n",
       "      <td>1027</td>\n",
       "      <td>546</td>\n",
       "      <td>6</td>\n",
       "      <td>19.373194</td>\n",
       "      <td>8194.281993</td>\n",
       "      <td>NaN</td>\n",
       "      <td>Reseller</td>\n",
       "      <td>Medium</td>\n",
       "      <td>...</td>\n",
       "      <td>Wrong Item</td>\n",
       "      <td>Cash</td>\n",
       "      <td>True</td>\n",
       "      <td>South</td>\n",
       "      <td>Canada</td>\n",
       "      <td>Customer 682</td>\n",
       "      <td>+1-237-853-5808</td>\n",
       "      <td>customer.682.66@demo.com</td>\n",
       "      <td>153 Main St, Phoenix, USA</td>\n",
       "      <td>Product 68</td>\n",
       "    </tr>\n",
       "    <tr>\n",
       "      <th>4</th>\n",
       "      <td>484</td>\n",
       "      <td>2020-01-07 07:08:06.486486486</td>\n",
       "      <td>1052</td>\n",
       "      <td>556</td>\n",
       "      <td>8</td>\n",
       "      <td>193.221313</td>\n",
       "      <td>8331.329249</td>\n",
       "      <td>0.20</td>\n",
       "      <td>Direct</td>\n",
       "      <td>Low</td>\n",
       "      <td>...</td>\n",
       "      <td>Late</td>\n",
       "      <td>Cash</td>\n",
       "      <td>False</td>\n",
       "      <td>South</td>\n",
       "      <td>Mexico</td>\n",
       "      <td>Customer 484</td>\n",
       "      <td>+1-986-360-9109</td>\n",
       "      <td>customer.484.3@sample.com</td>\n",
       "      <td>264 Second St, New York, USA</td>\n",
       "      <td>Product 89</td>\n",
       "    </tr>\n",
       "  </tbody>\n",
       "</table>\n",
       "<p>5 rows × 25 columns</p>\n",
       "</div>"
      ],
      "text/plain": [
       "   Transaction_ID                           Date  Customer_ID  Product_ID  \\\n",
       "0             200  2020-01-01 20:32:25.945945945         1086         536   \n",
       "1             321  2020-01-02 06:55:08.108108108         1078         523   \n",
       "2             989  2020-01-06 08:12:58.378378378         1077         535   \n",
       "3             682  2020-01-07 22:03:14.594594594         1027         546   \n",
       "4             484  2020-01-07 07:08:06.486486486         1052         556   \n",
       "\n",
       "   Quantity  Unit_Price   Total_Cost  Discount_Rate Sales_Channel  \\\n",
       "0         3  120.436821  8265.374549           0.20        Online   \n",
       "1         6  475.724994  4047.850479            NaN      Reseller   \n",
       "2         3  146.400556          NaN           0.05        Direct   \n",
       "3         6   19.373194  8194.281993            NaN      Reseller   \n",
       "4         8  193.221313  8331.329249           0.20        Direct   \n",
       "\n",
       "  Order_Priority  ... Return_Reason   Payment_Type Taxable Region  Country  \\\n",
       "0           High  ...    Wrong Item  Wire Transfer   False   West   Canada   \n",
       "1       Critical  ...       Damaged         PayPal    True  South   Mexico   \n",
       "2       Critical  ...       Damaged         PayPal    True   West   Canada   \n",
       "3         Medium  ...    Wrong Item           Cash    True  South   Canada   \n",
       "4            Low  ...          Late           Cash   False  South   Mexico   \n",
       "\n",
       "  Customer_Name   Customer_Phone               Customer_Email  \\\n",
       "0  Customer 200  +1-652-572-9306  customer.200.78@example.com   \n",
       "1  Customer 321  +1-311-186-5760   customer.321.13@sample.com   \n",
       "2  Customer 989  +1-922-606-9032  customer.989.99@example.com   \n",
       "3  Customer 682  +1-237-853-5808     customer.682.66@demo.com   \n",
       "4  Customer 484  +1-986-360-9109    customer.484.3@sample.com   \n",
       "\n",
       "               Customer_Address Product_List_Title  \n",
       "0   275 Second St, Phoenix, USA         Product 53  \n",
       "1   478 Third St, New York, USA         Product 33  \n",
       "2   843 Second St, Phoenix, USA          Product 6  \n",
       "3     153 Main St, Phoenix, USA         Product 68  \n",
       "4  264 Second St, New York, USA         Product 89  \n",
       "\n",
       "[5 rows x 25 columns]"
      ]
     },
     "execution_count": 64,
     "metadata": {},
     "output_type": "execute_result"
    }
   ],
   "source": [
    "ziko_df.head() "
   ]
  },
  {
   "cell_type": "code",
   "execution_count": 65,
   "id": "6060b555",
   "metadata": {},
   "outputs": [
    {
     "name": "stdout",
     "output_type": "stream",
     "text": [
      "<class 'pandas.core.frame.DataFrame'>\n",
      "RangeIndex: 1005 entries, 0 to 1004\n",
      "Data columns (total 25 columns):\n",
      " #   Column                 Non-Null Count  Dtype  \n",
      "---  ------                 --------------  -----  \n",
      " 0   Transaction_ID         1005 non-null   int64  \n",
      " 1   Date                   1005 non-null   object \n",
      " 2   Customer_ID            1005 non-null   int64  \n",
      " 3   Product_ID             1005 non-null   int64  \n",
      " 4   Quantity               1005 non-null   int64  \n",
      " 5   Unit_Price             904 non-null    float64\n",
      " 6   Total_Cost             905 non-null    float64\n",
      " 7   Discount_Rate          714 non-null    float64\n",
      " 8   Sales_Channel          1005 non-null   object \n",
      " 9   Order_Priority         1005 non-null   object \n",
      " 10  Warehouse_Code         1005 non-null   object \n",
      " 11  Ship_Mode              1005 non-null   object \n",
      " 12  Delivery_Status        1005 non-null   object \n",
      " 13  Customer_Satisfaction  1005 non-null   object \n",
      " 14  Item_Returned          1005 non-null   bool   \n",
      " 15  Return_Reason          904 non-null    object \n",
      " 16  Payment_Type           1005 non-null   object \n",
      " 17  Taxable                1005 non-null   bool   \n",
      " 18  Region                 1005 non-null   object \n",
      " 19  Country                1005 non-null   object \n",
      " 20  Customer_Name          1005 non-null   object \n",
      " 21  Customer_Phone         1005 non-null   object \n",
      " 22  Customer_Email         1005 non-null   object \n",
      " 23  Customer_Address       1005 non-null   object \n",
      " 24  Product_List_Title     1005 non-null   object \n",
      "dtypes: bool(2), float64(3), int64(4), object(16)\n",
      "memory usage: 182.7+ KB\n"
     ]
    }
   ],
   "source": [
    "ziko_df.info()"
   ]
  },
  {
   "cell_type": "code",
   "execution_count": 66,
   "id": "4290ccf2",
   "metadata": {},
   "outputs": [
    {
     "data": {
      "text/plain": [
       "Index(['Transaction_ID', 'Date', 'Customer_ID', 'Product_ID', 'Quantity',\n",
       "       'Unit_Price', 'Total_Cost', 'Discount_Rate', 'Sales_Channel',\n",
       "       'Order_Priority', 'Warehouse_Code', 'Ship_Mode', 'Delivery_Status',\n",
       "       'Customer_Satisfaction', 'Item_Returned', 'Return_Reason',\n",
       "       'Payment_Type', 'Taxable', 'Region', 'Country', 'Customer_Name',\n",
       "       'Customer_Phone', 'Customer_Email', 'Customer_Address',\n",
       "       'Product_List_Title'],\n",
       "      dtype='object')"
      ]
     },
     "execution_count": 66,
     "metadata": {},
     "output_type": "execute_result"
    }
   ],
   "source": [
    "ziko_df.columns"
   ]
  },
  {
   "cell_type": "code",
   "execution_count": 67,
   "id": "ca572641",
   "metadata": {},
   "outputs": [],
   "source": [
    "#Data Cleaning and Transformation\n",
    "ziko_df.fillna({\n",
    "    'Unit_Price': ziko_df['Unit_Price'].mean(),\n",
    "    'Total_Cost': ziko_df['Total_Cost'].mean(),\n",
    "    'Discount_Rate': 0.0,\n",
    "    'Return_Reason': 'Unknown'\n",
    "\n",
    "}, inplace=True)   "
   ]
  },
  {
   "cell_type": "code",
   "execution_count": 68,
   "id": "98d34f4b",
   "metadata": {},
   "outputs": [
    {
     "data": {
      "application/vnd.microsoft.datawrangler.viewer.v0+json": {
       "columns": [
        {
         "name": "index",
         "rawType": "int64",
         "type": "integer"
        },
        {
         "name": "Transaction_ID",
         "rawType": "int64",
         "type": "integer"
        },
        {
         "name": "Date",
         "rawType": "object",
         "type": "string"
        },
        {
         "name": "Customer_ID",
         "rawType": "int64",
         "type": "integer"
        },
        {
         "name": "Product_ID",
         "rawType": "int64",
         "type": "integer"
        },
        {
         "name": "Quantity",
         "rawType": "int64",
         "type": "integer"
        },
        {
         "name": "Unit_Price",
         "rawType": "float64",
         "type": "float"
        },
        {
         "name": "Total_Cost",
         "rawType": "float64",
         "type": "float"
        },
        {
         "name": "Discount_Rate",
         "rawType": "float64",
         "type": "float"
        },
        {
         "name": "Sales_Channel",
         "rawType": "object",
         "type": "string"
        },
        {
         "name": "Order_Priority",
         "rawType": "object",
         "type": "string"
        },
        {
         "name": "Warehouse_Code",
         "rawType": "object",
         "type": "string"
        },
        {
         "name": "Ship_Mode",
         "rawType": "object",
         "type": "string"
        },
        {
         "name": "Delivery_Status",
         "rawType": "object",
         "type": "string"
        },
        {
         "name": "Customer_Satisfaction",
         "rawType": "object",
         "type": "string"
        },
        {
         "name": "Item_Returned",
         "rawType": "bool",
         "type": "boolean"
        },
        {
         "name": "Return_Reason",
         "rawType": "object",
         "type": "string"
        },
        {
         "name": "Payment_Type",
         "rawType": "object",
         "type": "string"
        },
        {
         "name": "Taxable",
         "rawType": "bool",
         "type": "boolean"
        },
        {
         "name": "Region",
         "rawType": "object",
         "type": "string"
        },
        {
         "name": "Country",
         "rawType": "object",
         "type": "string"
        },
        {
         "name": "Customer_Name",
         "rawType": "object",
         "type": "string"
        },
        {
         "name": "Customer_Phone",
         "rawType": "object",
         "type": "string"
        },
        {
         "name": "Customer_Email",
         "rawType": "object",
         "type": "string"
        },
        {
         "name": "Customer_Address",
         "rawType": "object",
         "type": "string"
        },
        {
         "name": "Product_List_Title",
         "rawType": "object",
         "type": "string"
        }
       ],
       "ref": "dca6aa00-4764-4c7b-b223-a2083a302e0f",
       "rows": [
        [
         "0",
         "200",
         "2020-01-01 20:32:25.945945945",
         "1086",
         "536",
         "3",
         "120.43682132331526",
         "8265.37454940804",
         "0.2",
         "Online",
         "High",
         "WH-3",
         "2-Day",
         "Cancelled",
         "Neutral",
         "False",
         "Wrong Item",
         "Wire Transfer",
         "False",
         "West",
         "Canada",
         "Customer 200",
         "+1-652-572-9306",
         "customer.200.78@example.com",
         "275 Second St, Phoenix, USA",
         "Product 53"
        ],
        [
         "1",
         "321",
         "2020-01-02 06:55:08.108108108",
         "1078",
         "523",
         "6",
         "475.7249935818949",
         "4047.8504787607",
         "0.0",
         "Reseller",
         "Critical",
         "WH-1",
         "Overnight",
         "Backorder",
         "Satisfied",
         "True",
         "Damaged",
         "PayPal",
         "True",
         "South",
         "Mexico",
         "Customer 321",
         "+1-311-186-5760",
         "customer.321.13@sample.com",
         "478 Third St, New York, USA",
         "Product 33"
        ],
        [
         "2",
         "989",
         "2020-01-06 08:12:58.378378378",
         "1077",
         "535",
         "3",
         "146.40055601470172",
         "5096.553818483975",
         "0.05",
         "Direct",
         "Critical",
         "WH-1",
         "Overnight",
         "Pending",
         "Unsatisfied",
         "True",
         "Damaged",
         "PayPal",
         "True",
         "West",
         "Canada",
         "Customer 989",
         "+1-922-606-9032",
         "customer.989.99@example.com",
         "843 Second St, Phoenix, USA",
         "Product 6"
        ],
        [
         "3",
         "682",
         "2020-01-07 22:03:14.594594594",
         "1027",
         "546",
         "6",
         "19.373193554270635",
         "8194.281992877543",
         "0.0",
         "Reseller",
         "Medium",
         "WH-1",
         "Express",
         "Pending",
         "Unsatisfied",
         "False",
         "Wrong Item",
         "Cash",
         "True",
         "South",
         "Canada",
         "Customer 682",
         "+1-237-853-5808",
         "customer.682.66@demo.com",
         "153 Main St, Phoenix, USA",
         "Product 68"
        ],
        [
         "4",
         "484",
         "2020-01-07 07:08:06.486486486",
         "1052",
         "556",
         "8",
         "193.22131303627867",
         "8331.32924886882",
         "0.2",
         "Direct",
         "Low",
         "WH-2",
         "2-Day",
         "Delivered",
         "Satisfied",
         "True",
         "Late",
         "Cash",
         "False",
         "South",
         "Mexico",
         "Customer 484",
         "+1-986-360-9109",
         "customer.484.3@sample.com",
         "264 Second St, New York, USA",
         "Product 89"
        ]
       ],
       "shape": {
        "columns": 25,
        "rows": 5
       }
      },
      "text/html": [
       "<div>\n",
       "<style scoped>\n",
       "    .dataframe tbody tr th:only-of-type {\n",
       "        vertical-align: middle;\n",
       "    }\n",
       "\n",
       "    .dataframe tbody tr th {\n",
       "        vertical-align: top;\n",
       "    }\n",
       "\n",
       "    .dataframe thead th {\n",
       "        text-align: right;\n",
       "    }\n",
       "</style>\n",
       "<table border=\"1\" class=\"dataframe\">\n",
       "  <thead>\n",
       "    <tr style=\"text-align: right;\">\n",
       "      <th></th>\n",
       "      <th>Transaction_ID</th>\n",
       "      <th>Date</th>\n",
       "      <th>Customer_ID</th>\n",
       "      <th>Product_ID</th>\n",
       "      <th>Quantity</th>\n",
       "      <th>Unit_Price</th>\n",
       "      <th>Total_Cost</th>\n",
       "      <th>Discount_Rate</th>\n",
       "      <th>Sales_Channel</th>\n",
       "      <th>Order_Priority</th>\n",
       "      <th>...</th>\n",
       "      <th>Return_Reason</th>\n",
       "      <th>Payment_Type</th>\n",
       "      <th>Taxable</th>\n",
       "      <th>Region</th>\n",
       "      <th>Country</th>\n",
       "      <th>Customer_Name</th>\n",
       "      <th>Customer_Phone</th>\n",
       "      <th>Customer_Email</th>\n",
       "      <th>Customer_Address</th>\n",
       "      <th>Product_List_Title</th>\n",
       "    </tr>\n",
       "  </thead>\n",
       "  <tbody>\n",
       "    <tr>\n",
       "      <th>0</th>\n",
       "      <td>200</td>\n",
       "      <td>2020-01-01 20:32:25.945945945</td>\n",
       "      <td>1086</td>\n",
       "      <td>536</td>\n",
       "      <td>3</td>\n",
       "      <td>120.436821</td>\n",
       "      <td>8265.374549</td>\n",
       "      <td>0.20</td>\n",
       "      <td>Online</td>\n",
       "      <td>High</td>\n",
       "      <td>...</td>\n",
       "      <td>Wrong Item</td>\n",
       "      <td>Wire Transfer</td>\n",
       "      <td>False</td>\n",
       "      <td>West</td>\n",
       "      <td>Canada</td>\n",
       "      <td>Customer 200</td>\n",
       "      <td>+1-652-572-9306</td>\n",
       "      <td>customer.200.78@example.com</td>\n",
       "      <td>275 Second St, Phoenix, USA</td>\n",
       "      <td>Product 53</td>\n",
       "    </tr>\n",
       "    <tr>\n",
       "      <th>1</th>\n",
       "      <td>321</td>\n",
       "      <td>2020-01-02 06:55:08.108108108</td>\n",
       "      <td>1078</td>\n",
       "      <td>523</td>\n",
       "      <td>6</td>\n",
       "      <td>475.724994</td>\n",
       "      <td>4047.850479</td>\n",
       "      <td>0.00</td>\n",
       "      <td>Reseller</td>\n",
       "      <td>Critical</td>\n",
       "      <td>...</td>\n",
       "      <td>Damaged</td>\n",
       "      <td>PayPal</td>\n",
       "      <td>True</td>\n",
       "      <td>South</td>\n",
       "      <td>Mexico</td>\n",
       "      <td>Customer 321</td>\n",
       "      <td>+1-311-186-5760</td>\n",
       "      <td>customer.321.13@sample.com</td>\n",
       "      <td>478 Third St, New York, USA</td>\n",
       "      <td>Product 33</td>\n",
       "    </tr>\n",
       "    <tr>\n",
       "      <th>2</th>\n",
       "      <td>989</td>\n",
       "      <td>2020-01-06 08:12:58.378378378</td>\n",
       "      <td>1077</td>\n",
       "      <td>535</td>\n",
       "      <td>3</td>\n",
       "      <td>146.400556</td>\n",
       "      <td>5096.553818</td>\n",
       "      <td>0.05</td>\n",
       "      <td>Direct</td>\n",
       "      <td>Critical</td>\n",
       "      <td>...</td>\n",
       "      <td>Damaged</td>\n",
       "      <td>PayPal</td>\n",
       "      <td>True</td>\n",
       "      <td>West</td>\n",
       "      <td>Canada</td>\n",
       "      <td>Customer 989</td>\n",
       "      <td>+1-922-606-9032</td>\n",
       "      <td>customer.989.99@example.com</td>\n",
       "      <td>843 Second St, Phoenix, USA</td>\n",
       "      <td>Product 6</td>\n",
       "    </tr>\n",
       "    <tr>\n",
       "      <th>3</th>\n",
       "      <td>682</td>\n",
       "      <td>2020-01-07 22:03:14.594594594</td>\n",
       "      <td>1027</td>\n",
       "      <td>546</td>\n",
       "      <td>6</td>\n",
       "      <td>19.373194</td>\n",
       "      <td>8194.281993</td>\n",
       "      <td>0.00</td>\n",
       "      <td>Reseller</td>\n",
       "      <td>Medium</td>\n",
       "      <td>...</td>\n",
       "      <td>Wrong Item</td>\n",
       "      <td>Cash</td>\n",
       "      <td>True</td>\n",
       "      <td>South</td>\n",
       "      <td>Canada</td>\n",
       "      <td>Customer 682</td>\n",
       "      <td>+1-237-853-5808</td>\n",
       "      <td>customer.682.66@demo.com</td>\n",
       "      <td>153 Main St, Phoenix, USA</td>\n",
       "      <td>Product 68</td>\n",
       "    </tr>\n",
       "    <tr>\n",
       "      <th>4</th>\n",
       "      <td>484</td>\n",
       "      <td>2020-01-07 07:08:06.486486486</td>\n",
       "      <td>1052</td>\n",
       "      <td>556</td>\n",
       "      <td>8</td>\n",
       "      <td>193.221313</td>\n",
       "      <td>8331.329249</td>\n",
       "      <td>0.20</td>\n",
       "      <td>Direct</td>\n",
       "      <td>Low</td>\n",
       "      <td>...</td>\n",
       "      <td>Late</td>\n",
       "      <td>Cash</td>\n",
       "      <td>False</td>\n",
       "      <td>South</td>\n",
       "      <td>Mexico</td>\n",
       "      <td>Customer 484</td>\n",
       "      <td>+1-986-360-9109</td>\n",
       "      <td>customer.484.3@sample.com</td>\n",
       "      <td>264 Second St, New York, USA</td>\n",
       "      <td>Product 89</td>\n",
       "    </tr>\n",
       "  </tbody>\n",
       "</table>\n",
       "<p>5 rows × 25 columns</p>\n",
       "</div>"
      ],
      "text/plain": [
       "   Transaction_ID                           Date  Customer_ID  Product_ID  \\\n",
       "0             200  2020-01-01 20:32:25.945945945         1086         536   \n",
       "1             321  2020-01-02 06:55:08.108108108         1078         523   \n",
       "2             989  2020-01-06 08:12:58.378378378         1077         535   \n",
       "3             682  2020-01-07 22:03:14.594594594         1027         546   \n",
       "4             484  2020-01-07 07:08:06.486486486         1052         556   \n",
       "\n",
       "   Quantity  Unit_Price   Total_Cost  Discount_Rate Sales_Channel  \\\n",
       "0         3  120.436821  8265.374549           0.20        Online   \n",
       "1         6  475.724994  4047.850479           0.00      Reseller   \n",
       "2         3  146.400556  5096.553818           0.05        Direct   \n",
       "3         6   19.373194  8194.281993           0.00      Reseller   \n",
       "4         8  193.221313  8331.329249           0.20        Direct   \n",
       "\n",
       "  Order_Priority  ... Return_Reason   Payment_Type Taxable Region  Country  \\\n",
       "0           High  ...    Wrong Item  Wire Transfer   False   West   Canada   \n",
       "1       Critical  ...       Damaged         PayPal    True  South   Mexico   \n",
       "2       Critical  ...       Damaged         PayPal    True   West   Canada   \n",
       "3         Medium  ...    Wrong Item           Cash    True  South   Canada   \n",
       "4            Low  ...          Late           Cash   False  South   Mexico   \n",
       "\n",
       "  Customer_Name   Customer_Phone               Customer_Email  \\\n",
       "0  Customer 200  +1-652-572-9306  customer.200.78@example.com   \n",
       "1  Customer 321  +1-311-186-5760   customer.321.13@sample.com   \n",
       "2  Customer 989  +1-922-606-9032  customer.989.99@example.com   \n",
       "3  Customer 682  +1-237-853-5808     customer.682.66@demo.com   \n",
       "4  Customer 484  +1-986-360-9109    customer.484.3@sample.com   \n",
       "\n",
       "               Customer_Address Product_List_Title  \n",
       "0   275 Second St, Phoenix, USA         Product 53  \n",
       "1   478 Third St, New York, USA         Product 33  \n",
       "2   843 Second St, Phoenix, USA          Product 6  \n",
       "3     153 Main St, Phoenix, USA         Product 68  \n",
       "4  264 Second St, New York, USA         Product 89  \n",
       "\n",
       "[5 rows x 25 columns]"
      ]
     },
     "execution_count": 68,
     "metadata": {},
     "output_type": "execute_result"
    }
   ],
   "source": [
    "ziko_df.head()"
   ]
  },
  {
   "cell_type": "code",
   "execution_count": 69,
   "id": "3652b05f",
   "metadata": {},
   "outputs": [
    {
     "name": "stdout",
     "output_type": "stream",
     "text": [
      "<class 'pandas.core.frame.DataFrame'>\n",
      "RangeIndex: 1005 entries, 0 to 1004\n",
      "Data columns (total 25 columns):\n",
      " #   Column                 Non-Null Count  Dtype  \n",
      "---  ------                 --------------  -----  \n",
      " 0   Transaction_ID         1005 non-null   int64  \n",
      " 1   Date                   1005 non-null   object \n",
      " 2   Customer_ID            1005 non-null   int64  \n",
      " 3   Product_ID             1005 non-null   int64  \n",
      " 4   Quantity               1005 non-null   int64  \n",
      " 5   Unit_Price             1005 non-null   float64\n",
      " 6   Total_Cost             1005 non-null   float64\n",
      " 7   Discount_Rate          1005 non-null   float64\n",
      " 8   Sales_Channel          1005 non-null   object \n",
      " 9   Order_Priority         1005 non-null   object \n",
      " 10  Warehouse_Code         1005 non-null   object \n",
      " 11  Ship_Mode              1005 non-null   object \n",
      " 12  Delivery_Status        1005 non-null   object \n",
      " 13  Customer_Satisfaction  1005 non-null   object \n",
      " 14  Item_Returned          1005 non-null   bool   \n",
      " 15  Return_Reason          1005 non-null   object \n",
      " 16  Payment_Type           1005 non-null   object \n",
      " 17  Taxable                1005 non-null   bool   \n",
      " 18  Region                 1005 non-null   object \n",
      " 19  Country                1005 non-null   object \n",
      " 20  Customer_Name          1005 non-null   object \n",
      " 21  Customer_Phone         1005 non-null   object \n",
      " 22  Customer_Email         1005 non-null   object \n",
      " 23  Customer_Address       1005 non-null   object \n",
      " 24  Product_List_Title     1005 non-null   object \n",
      "dtypes: bool(2), float64(3), int64(4), object(16)\n",
      "memory usage: 182.7+ KB\n"
     ]
    }
   ],
   "source": [
    "ziko_df.info()"
   ]
  },
  {
   "cell_type": "code",
   "execution_count": 103,
   "id": "9b92fa44",
   "metadata": {},
   "outputs": [],
   "source": [
    "ziko_df['Date']= pd.to_datetime(ziko_df['Date'], errors='coerce')"
   ]
  },
  {
   "cell_type": "code",
   "execution_count": 104,
   "id": "1c2cce8e",
   "metadata": {},
   "outputs": [
    {
     "name": "stdout",
     "output_type": "stream",
     "text": [
      "<class 'pandas.core.frame.DataFrame'>\n",
      "RangeIndex: 1005 entries, 0 to 1004\n",
      "Data columns (total 25 columns):\n",
      " #   Column                 Non-Null Count  Dtype         \n",
      "---  ------                 --------------  -----         \n",
      " 0   Transaction_ID         1005 non-null   int64         \n",
      " 1   Date                   1005 non-null   datetime64[ns]\n",
      " 2   Customer_ID            1005 non-null   int64         \n",
      " 3   Product_ID             1005 non-null   int64         \n",
      " 4   Quantity               1005 non-null   int64         \n",
      " 5   Unit_Price             1005 non-null   float64       \n",
      " 6   Total_Cost             1005 non-null   float64       \n",
      " 7   Discount_Rate          1005 non-null   float64       \n",
      " 8   Sales_Channel          1005 non-null   object        \n",
      " 9   Order_Priority         1005 non-null   object        \n",
      " 10  Warehouse_Code         1005 non-null   object        \n",
      " 11  Ship_Mode              1005 non-null   object        \n",
      " 12  Delivery_Status        1005 non-null   object        \n",
      " 13  Customer_Satisfaction  1005 non-null   object        \n",
      " 14  Item_Returned          1005 non-null   bool          \n",
      " 15  Return_Reason          1005 non-null   object        \n",
      " 16  Payment_Type           1005 non-null   object        \n",
      " 17  Taxable                1005 non-null   bool          \n",
      " 18  Region                 1005 non-null   object        \n",
      " 19  Country                1005 non-null   object        \n",
      " 20  Customer_Name          1005 non-null   object        \n",
      " 21  Customer_Phone         1005 non-null   object        \n",
      " 22  Customer_Email         1005 non-null   object        \n",
      " 23  Customer_Address       1005 non-null   object        \n",
      " 24  Product_List_Title     1005 non-null   object        \n",
      "dtypes: bool(2), datetime64[ns](1), float64(3), int64(4), object(15)\n",
      "memory usage: 182.7+ KB\n"
     ]
    }
   ],
   "source": [
    "ziko_df.info()"
   ]
  },
  {
   "cell_type": "code",
   "execution_count": 72,
   "id": "59974e6a",
   "metadata": {},
   "outputs": [
    {
     "data": {
      "text/plain": [
       "Index(['Transaction_ID', 'Date', 'Customer_ID', 'Product_ID', 'Quantity',\n",
       "       'Unit_Price', 'Total_Cost', 'Discount_Rate', 'Sales_Channel',\n",
       "       'Order_Priority', 'Warehouse_Code', 'Ship_Mode', 'Delivery_Status',\n",
       "       'Customer_Satisfaction', 'Item_Returned', 'Return_Reason',\n",
       "       'Payment_Type', 'Taxable', 'Region', 'Country', 'Customer_Name',\n",
       "       'Customer_Phone', 'Customer_Email', 'Customer_Address',\n",
       "       'Product_List_Title'],\n",
       "      dtype='object')"
      ]
     },
     "execution_count": 72,
     "metadata": {},
     "output_type": "execute_result"
    }
   ],
   "source": [
    "ziko_df.columns"
   ]
  },
  {
   "cell_type": "code",
   "execution_count": 73,
   "id": "7ef8fc54",
   "metadata": {},
   "outputs": [
    {
     "data": {
      "application/vnd.microsoft.datawrangler.viewer.v0+json": {
       "columns": [
        {
         "name": "index",
         "rawType": "int64",
         "type": "integer"
        },
        {
         "name": "Customer_ID",
         "rawType": "int64",
         "type": "integer"
        },
        {
         "name": "Customer_Name",
         "rawType": "object",
         "type": "string"
        },
        {
         "name": "Customer_Email",
         "rawType": "object",
         "type": "string"
        },
        {
         "name": "Customer_Phone",
         "rawType": "object",
         "type": "string"
        },
        {
         "name": "Customer_Address",
         "rawType": "object",
         "type": "string"
        }
       ],
       "ref": "ddaefbb8-12ee-455e-b272-ed76ca9b4750",
       "rows": [
        [
         "0",
         "1086",
         "Customer 200",
         "customer.200.78@example.com",
         "+1-652-572-9306",
         "275 Second St, Phoenix, USA"
        ],
        [
         "1",
         "1078",
         "Customer 321",
         "customer.321.13@sample.com",
         "+1-311-186-5760",
         "478 Third St, New York, USA"
        ],
        [
         "2",
         "1077",
         "Customer 989",
         "customer.989.99@example.com",
         "+1-922-606-9032",
         "843 Second St, Phoenix, USA"
        ],
        [
         "3",
         "1027",
         "Customer 682",
         "customer.682.66@demo.com",
         "+1-237-853-5808",
         "153 Main St, Phoenix, USA"
        ],
        [
         "4",
         "1052",
         "Customer 484",
         "customer.484.3@sample.com",
         "+1-986-360-9109",
         "264 Second St, New York, USA"
        ]
       ],
       "shape": {
        "columns": 5,
        "rows": 5
       }
      },
      "text/html": [
       "<div>\n",
       "<style scoped>\n",
       "    .dataframe tbody tr th:only-of-type {\n",
       "        vertical-align: middle;\n",
       "    }\n",
       "\n",
       "    .dataframe tbody tr th {\n",
       "        vertical-align: top;\n",
       "    }\n",
       "\n",
       "    .dataframe thead th {\n",
       "        text-align: right;\n",
       "    }\n",
       "</style>\n",
       "<table border=\"1\" class=\"dataframe\">\n",
       "  <thead>\n",
       "    <tr style=\"text-align: right;\">\n",
       "      <th></th>\n",
       "      <th>Customer_ID</th>\n",
       "      <th>Customer_Name</th>\n",
       "      <th>Customer_Email</th>\n",
       "      <th>Customer_Phone</th>\n",
       "      <th>Customer_Address</th>\n",
       "    </tr>\n",
       "  </thead>\n",
       "  <tbody>\n",
       "    <tr>\n",
       "      <th>0</th>\n",
       "      <td>1086</td>\n",
       "      <td>Customer 200</td>\n",
       "      <td>customer.200.78@example.com</td>\n",
       "      <td>+1-652-572-9306</td>\n",
       "      <td>275 Second St, Phoenix, USA</td>\n",
       "    </tr>\n",
       "    <tr>\n",
       "      <th>1</th>\n",
       "      <td>1078</td>\n",
       "      <td>Customer 321</td>\n",
       "      <td>customer.321.13@sample.com</td>\n",
       "      <td>+1-311-186-5760</td>\n",
       "      <td>478 Third St, New York, USA</td>\n",
       "    </tr>\n",
       "    <tr>\n",
       "      <th>2</th>\n",
       "      <td>1077</td>\n",
       "      <td>Customer 989</td>\n",
       "      <td>customer.989.99@example.com</td>\n",
       "      <td>+1-922-606-9032</td>\n",
       "      <td>843 Second St, Phoenix, USA</td>\n",
       "    </tr>\n",
       "    <tr>\n",
       "      <th>3</th>\n",
       "      <td>1027</td>\n",
       "      <td>Customer 682</td>\n",
       "      <td>customer.682.66@demo.com</td>\n",
       "      <td>+1-237-853-5808</td>\n",
       "      <td>153 Main St, Phoenix, USA</td>\n",
       "    </tr>\n",
       "    <tr>\n",
       "      <th>4</th>\n",
       "      <td>1052</td>\n",
       "      <td>Customer 484</td>\n",
       "      <td>customer.484.3@sample.com</td>\n",
       "      <td>+1-986-360-9109</td>\n",
       "      <td>264 Second St, New York, USA</td>\n",
       "    </tr>\n",
       "  </tbody>\n",
       "</table>\n",
       "</div>"
      ],
      "text/plain": [
       "   Customer_ID Customer_Name               Customer_Email   Customer_Phone  \\\n",
       "0         1086  Customer 200  customer.200.78@example.com  +1-652-572-9306   \n",
       "1         1078  Customer 321   customer.321.13@sample.com  +1-311-186-5760   \n",
       "2         1077  Customer 989  customer.989.99@example.com  +1-922-606-9032   \n",
       "3         1027  Customer 682     customer.682.66@demo.com  +1-237-853-5808   \n",
       "4         1052  Customer 484    customer.484.3@sample.com  +1-986-360-9109   \n",
       "\n",
       "               Customer_Address  \n",
       "0   275 Second St, Phoenix, USA  \n",
       "1   478 Third St, New York, USA  \n",
       "2   843 Second St, Phoenix, USA  \n",
       "3     153 Main St, Phoenix, USA  \n",
       "4  264 Second St, New York, USA  "
      ]
     },
     "execution_count": 73,
     "metadata": {},
     "output_type": "execute_result"
    }
   ],
   "source": [
    "#Customer Table\n",
    "customer =ziko_df[['Customer_ID', 'Customer_Name', 'Customer_Email', 'Customer_Phone', 'Customer_Address']].copy().drop_duplicates().reset_index(drop=True)\n",
    "customer.head()"
   ]
  },
  {
   "cell_type": "code",
   "execution_count": 74,
   "id": "cf8204d7",
   "metadata": {},
   "outputs": [
    {
     "data": {
      "text/plain": [
       "(1000, 5)"
      ]
     },
     "execution_count": 74,
     "metadata": {},
     "output_type": "execute_result"
    }
   ],
   "source": [
    "customer.shape"
   ]
  },
  {
   "cell_type": "code",
   "execution_count": 75,
   "id": "298277e0",
   "metadata": {},
   "outputs": [
    {
     "data": {
      "application/vnd.microsoft.datawrangler.viewer.v0+json": {
       "columns": [
        {
         "name": "index",
         "rawType": "int64",
         "type": "integer"
        },
        {
         "name": "Product_ID",
         "rawType": "int64",
         "type": "integer"
        },
        {
         "name": "Product_List_Title",
         "rawType": "object",
         "type": "string"
        },
        {
         "name": "Quantity",
         "rawType": "int64",
         "type": "integer"
        },
        {
         "name": "Unit_Price",
         "rawType": "float64",
         "type": "float"
        },
        {
         "name": "Total_Cost",
         "rawType": "float64",
         "type": "float"
        },
        {
         "name": "Discount_Rate",
         "rawType": "float64",
         "type": "float"
        }
       ],
       "ref": "d8a875ca-8257-4b89-802d-48c073489140",
       "rows": [
        [
         "0",
         "536",
         "Product 53",
         "3",
         "120.43682132331526",
         "8265.37454940804",
         "0.2"
        ],
        [
         "1",
         "523",
         "Product 33",
         "6",
         "475.7249935818949",
         "4047.8504787607",
         "0.0"
        ],
        [
         "2",
         "535",
         "Product 6",
         "3",
         "146.40055601470172",
         "5096.553818483975",
         "0.05"
        ],
        [
         "3",
         "546",
         "Product 68",
         "6",
         "19.373193554270635",
         "8194.281992877543",
         "0.0"
        ],
        [
         "4",
         "556",
         "Product 89",
         "8",
         "193.22131303627867",
         "8331.32924886882",
         "0.2"
        ]
       ],
       "shape": {
        "columns": 6,
        "rows": 5
       }
      },
      "text/html": [
       "<div>\n",
       "<style scoped>\n",
       "    .dataframe tbody tr th:only-of-type {\n",
       "        vertical-align: middle;\n",
       "    }\n",
       "\n",
       "    .dataframe tbody tr th {\n",
       "        vertical-align: top;\n",
       "    }\n",
       "\n",
       "    .dataframe thead th {\n",
       "        text-align: right;\n",
       "    }\n",
       "</style>\n",
       "<table border=\"1\" class=\"dataframe\">\n",
       "  <thead>\n",
       "    <tr style=\"text-align: right;\">\n",
       "      <th></th>\n",
       "      <th>Product_ID</th>\n",
       "      <th>Product_List_Title</th>\n",
       "      <th>Quantity</th>\n",
       "      <th>Unit_Price</th>\n",
       "      <th>Total_Cost</th>\n",
       "      <th>Discount_Rate</th>\n",
       "    </tr>\n",
       "  </thead>\n",
       "  <tbody>\n",
       "    <tr>\n",
       "      <th>0</th>\n",
       "      <td>536</td>\n",
       "      <td>Product 53</td>\n",
       "      <td>3</td>\n",
       "      <td>120.436821</td>\n",
       "      <td>8265.374549</td>\n",
       "      <td>0.20</td>\n",
       "    </tr>\n",
       "    <tr>\n",
       "      <th>1</th>\n",
       "      <td>523</td>\n",
       "      <td>Product 33</td>\n",
       "      <td>6</td>\n",
       "      <td>475.724994</td>\n",
       "      <td>4047.850479</td>\n",
       "      <td>0.00</td>\n",
       "    </tr>\n",
       "    <tr>\n",
       "      <th>2</th>\n",
       "      <td>535</td>\n",
       "      <td>Product 6</td>\n",
       "      <td>3</td>\n",
       "      <td>146.400556</td>\n",
       "      <td>5096.553818</td>\n",
       "      <td>0.05</td>\n",
       "    </tr>\n",
       "    <tr>\n",
       "      <th>3</th>\n",
       "      <td>546</td>\n",
       "      <td>Product 68</td>\n",
       "      <td>6</td>\n",
       "      <td>19.373194</td>\n",
       "      <td>8194.281993</td>\n",
       "      <td>0.00</td>\n",
       "    </tr>\n",
       "    <tr>\n",
       "      <th>4</th>\n",
       "      <td>556</td>\n",
       "      <td>Product 89</td>\n",
       "      <td>8</td>\n",
       "      <td>193.221313</td>\n",
       "      <td>8331.329249</td>\n",
       "      <td>0.20</td>\n",
       "    </tr>\n",
       "  </tbody>\n",
       "</table>\n",
       "</div>"
      ],
      "text/plain": [
       "   Product_ID Product_List_Title  Quantity  Unit_Price   Total_Cost  \\\n",
       "0         536         Product 53         3  120.436821  8265.374549   \n",
       "1         523         Product 33         6  475.724994  4047.850479   \n",
       "2         535          Product 6         3  146.400556  5096.553818   \n",
       "3         546         Product 68         6   19.373194  8194.281993   \n",
       "4         556         Product 89         8  193.221313  8331.329249   \n",
       "\n",
       "   Discount_Rate  \n",
       "0           0.20  \n",
       "1           0.00  \n",
       "2           0.05  \n",
       "3           0.00  \n",
       "4           0.20  "
      ]
     },
     "execution_count": 75,
     "metadata": {},
     "output_type": "execute_result"
    }
   ],
   "source": [
    "#product Table\n",
    "product = ziko_df[['Product_ID', 'Product_List_Title', 'Quantity', 'Unit_Price', 'Total_Cost','Discount_Rate']].copy().drop_duplicates().reset_index(drop=True)\n",
    "product.head()"
   ]
  },
  {
   "cell_type": "code",
   "execution_count": 76,
   "id": "7238145a",
   "metadata": {},
   "outputs": [],
   "source": [
    "#Transaction Fact Table\n",
    "transaction_fact = ziko_df.merge(customer, on =['Customer_ID', 'Customer_Name', 'Customer_Email', 'Customer_Phone', 'Customer_Address'], how ='left' ) \\\n",
    "                          .merge(product, on=['Product_ID', 'Product_List_Title', 'Quantity', 'Unit_Price', 'Total_Cost',], how ='left') \\\n",
    "                          [['Transaction_ID', 'Date', 'Customer_ID', 'Product_ID','Sales_Channel','Order_Priority', \\\n",
    "                            'Warehouse_Code', 'Ship_Mode', 'Delivery_Status', 'Customer_Satisfaction', 'Item_Returned', 'Return_Reason','Payment_Type', 'Taxable', 'Region', 'Country']]\n"
   ]
  },
  {
   "cell_type": "code",
   "execution_count": 77,
   "id": "2ac7e449",
   "metadata": {},
   "outputs": [
    {
     "data": {
      "application/vnd.microsoft.datawrangler.viewer.v0+json": {
       "columns": [
        {
         "name": "index",
         "rawType": "int64",
         "type": "integer"
        },
        {
         "name": "Transaction_ID",
         "rawType": "int64",
         "type": "integer"
        },
        {
         "name": "Date",
         "rawType": "datetime64[ns]",
         "type": "datetime"
        },
        {
         "name": "Customer_ID",
         "rawType": "int64",
         "type": "integer"
        },
        {
         "name": "Product_ID",
         "rawType": "int64",
         "type": "integer"
        },
        {
         "name": "Sales_Channel",
         "rawType": "object",
         "type": "string"
        },
        {
         "name": "Order_Priority",
         "rawType": "object",
         "type": "string"
        },
        {
         "name": "Warehouse_Code",
         "rawType": "object",
         "type": "string"
        },
        {
         "name": "Ship_Mode",
         "rawType": "object",
         "type": "string"
        },
        {
         "name": "Delivery_Status",
         "rawType": "object",
         "type": "string"
        },
        {
         "name": "Customer_Satisfaction",
         "rawType": "object",
         "type": "string"
        },
        {
         "name": "Item_Returned",
         "rawType": "bool",
         "type": "boolean"
        },
        {
         "name": "Return_Reason",
         "rawType": "object",
         "type": "string"
        },
        {
         "name": "Payment_Type",
         "rawType": "object",
         "type": "string"
        },
        {
         "name": "Taxable",
         "rawType": "bool",
         "type": "boolean"
        },
        {
         "name": "Region",
         "rawType": "object",
         "type": "string"
        },
        {
         "name": "Country",
         "rawType": "object",
         "type": "string"
        }
       ],
       "ref": "06ccd875-3738-43b6-baa9-ff556b967694",
       "rows": [
        [
         "0",
         "200",
         "2020-01-01 20:32:25.945945945",
         "1086",
         "536",
         "Online",
         "High",
         "WH-3",
         "2-Day",
         "Cancelled",
         "Neutral",
         "False",
         "Wrong Item",
         "Wire Transfer",
         "False",
         "West",
         "Canada"
        ],
        [
         "1",
         "321",
         "2020-01-02 06:55:08.108108108",
         "1078",
         "523",
         "Reseller",
         "Critical",
         "WH-1",
         "Overnight",
         "Backorder",
         "Satisfied",
         "True",
         "Damaged",
         "PayPal",
         "True",
         "South",
         "Mexico"
        ],
        [
         "2",
         "989",
         "2020-01-06 08:12:58.378378378",
         "1077",
         "535",
         "Direct",
         "Critical",
         "WH-1",
         "Overnight",
         "Pending",
         "Unsatisfied",
         "True",
         "Damaged",
         "PayPal",
         "True",
         "West",
         "Canada"
        ],
        [
         "3",
         "682",
         "2020-01-07 22:03:14.594594594",
         "1027",
         "546",
         "Reseller",
         "Medium",
         "WH-1",
         "Express",
         "Pending",
         "Unsatisfied",
         "False",
         "Wrong Item",
         "Cash",
         "True",
         "South",
         "Canada"
        ],
        [
         "4",
         "484",
         "2020-01-07 07:08:06.486486486",
         "1052",
         "556",
         "Direct",
         "Low",
         "WH-2",
         "2-Day",
         "Delivered",
         "Satisfied",
         "True",
         "Late",
         "Cash",
         "False",
         "South",
         "Mexico"
        ]
       ],
       "shape": {
        "columns": 16,
        "rows": 5
       }
      },
      "text/html": [
       "<div>\n",
       "<style scoped>\n",
       "    .dataframe tbody tr th:only-of-type {\n",
       "        vertical-align: middle;\n",
       "    }\n",
       "\n",
       "    .dataframe tbody tr th {\n",
       "        vertical-align: top;\n",
       "    }\n",
       "\n",
       "    .dataframe thead th {\n",
       "        text-align: right;\n",
       "    }\n",
       "</style>\n",
       "<table border=\"1\" class=\"dataframe\">\n",
       "  <thead>\n",
       "    <tr style=\"text-align: right;\">\n",
       "      <th></th>\n",
       "      <th>Transaction_ID</th>\n",
       "      <th>Date</th>\n",
       "      <th>Customer_ID</th>\n",
       "      <th>Product_ID</th>\n",
       "      <th>Sales_Channel</th>\n",
       "      <th>Order_Priority</th>\n",
       "      <th>Warehouse_Code</th>\n",
       "      <th>Ship_Mode</th>\n",
       "      <th>Delivery_Status</th>\n",
       "      <th>Customer_Satisfaction</th>\n",
       "      <th>Item_Returned</th>\n",
       "      <th>Return_Reason</th>\n",
       "      <th>Payment_Type</th>\n",
       "      <th>Taxable</th>\n",
       "      <th>Region</th>\n",
       "      <th>Country</th>\n",
       "    </tr>\n",
       "  </thead>\n",
       "  <tbody>\n",
       "    <tr>\n",
       "      <th>0</th>\n",
       "      <td>200</td>\n",
       "      <td>2020-01-01 20:32:25.945945945</td>\n",
       "      <td>1086</td>\n",
       "      <td>536</td>\n",
       "      <td>Online</td>\n",
       "      <td>High</td>\n",
       "      <td>WH-3</td>\n",
       "      <td>2-Day</td>\n",
       "      <td>Cancelled</td>\n",
       "      <td>Neutral</td>\n",
       "      <td>False</td>\n",
       "      <td>Wrong Item</td>\n",
       "      <td>Wire Transfer</td>\n",
       "      <td>False</td>\n",
       "      <td>West</td>\n",
       "      <td>Canada</td>\n",
       "    </tr>\n",
       "    <tr>\n",
       "      <th>1</th>\n",
       "      <td>321</td>\n",
       "      <td>2020-01-02 06:55:08.108108108</td>\n",
       "      <td>1078</td>\n",
       "      <td>523</td>\n",
       "      <td>Reseller</td>\n",
       "      <td>Critical</td>\n",
       "      <td>WH-1</td>\n",
       "      <td>Overnight</td>\n",
       "      <td>Backorder</td>\n",
       "      <td>Satisfied</td>\n",
       "      <td>True</td>\n",
       "      <td>Damaged</td>\n",
       "      <td>PayPal</td>\n",
       "      <td>True</td>\n",
       "      <td>South</td>\n",
       "      <td>Mexico</td>\n",
       "    </tr>\n",
       "    <tr>\n",
       "      <th>2</th>\n",
       "      <td>989</td>\n",
       "      <td>2020-01-06 08:12:58.378378378</td>\n",
       "      <td>1077</td>\n",
       "      <td>535</td>\n",
       "      <td>Direct</td>\n",
       "      <td>Critical</td>\n",
       "      <td>WH-1</td>\n",
       "      <td>Overnight</td>\n",
       "      <td>Pending</td>\n",
       "      <td>Unsatisfied</td>\n",
       "      <td>True</td>\n",
       "      <td>Damaged</td>\n",
       "      <td>PayPal</td>\n",
       "      <td>True</td>\n",
       "      <td>West</td>\n",
       "      <td>Canada</td>\n",
       "    </tr>\n",
       "    <tr>\n",
       "      <th>3</th>\n",
       "      <td>682</td>\n",
       "      <td>2020-01-07 22:03:14.594594594</td>\n",
       "      <td>1027</td>\n",
       "      <td>546</td>\n",
       "      <td>Reseller</td>\n",
       "      <td>Medium</td>\n",
       "      <td>WH-1</td>\n",
       "      <td>Express</td>\n",
       "      <td>Pending</td>\n",
       "      <td>Unsatisfied</td>\n",
       "      <td>False</td>\n",
       "      <td>Wrong Item</td>\n",
       "      <td>Cash</td>\n",
       "      <td>True</td>\n",
       "      <td>South</td>\n",
       "      <td>Canada</td>\n",
       "    </tr>\n",
       "    <tr>\n",
       "      <th>4</th>\n",
       "      <td>484</td>\n",
       "      <td>2020-01-07 07:08:06.486486486</td>\n",
       "      <td>1052</td>\n",
       "      <td>556</td>\n",
       "      <td>Direct</td>\n",
       "      <td>Low</td>\n",
       "      <td>WH-2</td>\n",
       "      <td>2-Day</td>\n",
       "      <td>Delivered</td>\n",
       "      <td>Satisfied</td>\n",
       "      <td>True</td>\n",
       "      <td>Late</td>\n",
       "      <td>Cash</td>\n",
       "      <td>False</td>\n",
       "      <td>South</td>\n",
       "      <td>Mexico</td>\n",
       "    </tr>\n",
       "  </tbody>\n",
       "</table>\n",
       "</div>"
      ],
      "text/plain": [
       "   Transaction_ID                          Date  Customer_ID  Product_ID  \\\n",
       "0             200 2020-01-01 20:32:25.945945945         1086         536   \n",
       "1             321 2020-01-02 06:55:08.108108108         1078         523   \n",
       "2             989 2020-01-06 08:12:58.378378378         1077         535   \n",
       "3             682 2020-01-07 22:03:14.594594594         1027         546   \n",
       "4             484 2020-01-07 07:08:06.486486486         1052         556   \n",
       "\n",
       "  Sales_Channel Order_Priority Warehouse_Code  Ship_Mode Delivery_Status  \\\n",
       "0        Online           High           WH-3      2-Day       Cancelled   \n",
       "1      Reseller       Critical           WH-1  Overnight       Backorder   \n",
       "2        Direct       Critical           WH-1  Overnight         Pending   \n",
       "3      Reseller         Medium           WH-1    Express         Pending   \n",
       "4        Direct            Low           WH-2      2-Day       Delivered   \n",
       "\n",
       "  Customer_Satisfaction  Item_Returned Return_Reason   Payment_Type  Taxable  \\\n",
       "0               Neutral          False    Wrong Item  Wire Transfer    False   \n",
       "1             Satisfied           True       Damaged         PayPal     True   \n",
       "2           Unsatisfied           True       Damaged         PayPal     True   \n",
       "3           Unsatisfied          False    Wrong Item           Cash     True   \n",
       "4             Satisfied           True          Late           Cash    False   \n",
       "\n",
       "  Region Country  \n",
       "0   West  Canada  \n",
       "1  South  Mexico  \n",
       "2   West  Canada  \n",
       "3  South  Canada  \n",
       "4  South  Mexico  "
      ]
     },
     "execution_count": 77,
     "metadata": {},
     "output_type": "execute_result"
    }
   ],
   "source": [
    "transaction_fact.head()"
   ]
  },
  {
   "cell_type": "code",
   "execution_count": 78,
   "id": "5457053e",
   "metadata": {},
   "outputs": [],
   "source": [
    "#Temporary loading\n",
    "customer.to_csv(r'../dataset/customer.csv', index=False)\n",
    "product.to_csv(r'../dataset/product.csv', index=False)\n",
    "transaction_fact.to_csv(r'../dataset/transaction_fact.csv', index=False)"
   ]
  },
  {
   "cell_type": "code",
   "execution_count": 79,
   "id": "fc8b844f",
   "metadata": {},
   "outputs": [],
   "source": [
    "# Data Loading\n",
    "# Azure blob connection\n",
    "#load environment variables\n",
    "from dotenv import load_dotenv\n",
    "load_dotenv()\n",
    "\n",
    "\n",
    "connect_str = os.getenv('CONNECT_STR')\n",
    "blob_service_client = BlobServiceClient.from_connection_string(connect_str)\n",
    "\n",
    "container_name = os.getenv('CONTAINER_NAME')\n",
    "container_client = blob_service_client.get_container_client(container_name)\n"
   ]
  },
  {
   "cell_type": "code",
   "execution_count": null,
   "id": "7bbedf82",
   "metadata": {},
   "outputs": [],
   "source": [
    "#create a function to load dataframes to Azure Blob Storage as parquet files\n",
    "def upload_df_to_blob_as_parquet(df, container_client, blob_name):\n",
    "    try:\n",
    "        buffer = io.BytesIO()\n",
    "        df.to_parquet(buffer, index=False, engine='fastparquet')\n",
    "        buffer.seek(0)\n",
    "        blob_client = container_client.get_blob_client(blob_name)\n",
    "        blob_client.upload_blob(buffer, overwrite=True)\n",
    "        print(f\"uploaded to Azure Blob Storage successfully! {blob_name}\")\n",
    "    except Exception as e:\n",
    "        print(f\"Error uploading {blob_name}: {e}\")\n"
   ]
  },
  {
   "cell_type": "code",
   "execution_count": 102,
   "id": "41b6947e",
   "metadata": {},
   "outputs": [
    {
     "name": "stdout",
     "output_type": "stream",
     "text": [
      "uploaded to Azure Blob Storage successfully! rawdata/customer.parquet\n",
      "uploaded to Azure Blob Storage successfully! rawdata/product.parquet\n",
      "uploaded to Azure Blob Storage successfully! rawdata/transaction_fact.parquet\n"
     ]
    }
   ],
   "source": [
    "upload_df_to_blob_as_parquet(customer, container_client, 'rawdata/customer.parquet')\n",
    "upload_df_to_blob_as_parquet(product, container_client, 'rawdata/product.parquet')\n",
    "upload_df_to_blob_as_parquet(transaction_fact, container_client, 'rawdata/transaction_fact.parquet')\n",
    "\n",
    "\n"
   ]
  }
 ],
 "metadata": {
  "kernelspec": {
   "display_name": "Python 3",
   "language": "python",
   "name": "python3"
  },
  "language_info": {
   "codemirror_mode": {
    "name": "ipython",
    "version": 3
   },
   "file_extension": ".py",
   "mimetype": "text/x-python",
   "name": "python",
   "nbconvert_exporter": "python",
   "pygments_lexer": "ipython3",
   "version": "3.11.4"
  }
 },
 "nbformat": 4,
 "nbformat_minor": 5
}
